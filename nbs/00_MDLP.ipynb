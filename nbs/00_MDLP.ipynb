{
 "cells": [
  {
   "cell_type": "markdown",
   "metadata": {},
   "source": [
    " ---"
   ]
  },
  {
   "cell_type": "markdown",
   "metadata": {},
   "source": [
    "# MDLP NOTES"
   ]
  },
  {
   "cell_type": "markdown",
   "metadata": {},
   "source": [
    "### 1- Keeping Neural Networks Simple By Minimizing the Description Length of the Weights"
   ]
  },
  {
   "cell_type": "markdown",
   "metadata": {},
   "source": [
    "[Minimum Description Length](https://en.wikipedia.org/wiki/Minimum_description_length)\n",
    "\n",
    "[Keeping Neural Networks Simple by Minimizing the Description Length of the Weights by Geofrey E. Hinton and Drew van Camp](https://www.cs.toronto.edu/~fritz/absps/colt93.pdf)\n",
    "\n",
    "\n",
    "Şimdi, ilk makale ile başlıyorum. 1993 Minimum Description Length Principle ile iligli.\n",
    "\n",
    "Eğer eğitim sırasında weightlerde, output vectorlerinden daha az bilgi varsa network daha iyi genelleme yapıyormuş. Yani eğitim sırasında weightleri basit tutmak baya önemliymiş. Bunu yapmak işçin de weightin içerdiği biligi miktarını cezalandırabiliriz. Bunu kontrol etmek için Gaussian noise eklenebiliriz böylece bu noise leveller, ağın expected squared error'u ile weight'lerdeki bigi miktarı arasındaki dengeyi optimize etmek için öğrenme sırasında kullanılabiilr.\n",
    "\n",
    "Non-linear hidden birimler layerı içeren bir networkün beklenen squared error'un ve noisy weightslerde bulunan bilgi miktarının türevlerini kullanaran bir yöntemini açıklımışlar.\n",
    "\n",
    "Outputlar doğrusal olduğu takdirde, zaman alıcı Monte Carlo simülasyonlarına gerek kalmadan kesin türevler verimli bir şekilde hesaplanabilir. \n",
    "\n",
    "Bu neural networklerdeki weightlerin iletilmesi için gereken bilgi miktarını azaltma fikri encoding the weights için bir dizi ilginç şemaya yol açarmış. \n",
    "\n",
    "Yani burdan çıkarılacak sonuç: bu MDL prensibi, bazı dataların en iyi modelleri modelin description lengthi ile o model kullanılarak encode edilen verilerin uzunluğunun toplamını en aza indiren modeldir.\n",
    "\n",
    "Eğer model complexityi control altına almak ve overfittingi önlemek istiyorsak, MDL prensibini kullanabiliriz.\n",
    "\n",
    "Description length of the weightsi en aza indirmek için weight-sharing kullanıyor. Yani aynı weightleri birden fazla yerde kullanıyoruz. Bu da modelin complexityini azaltıyor.\n",
    "\n",
    "\n",
    "\n"
   ]
  },
  {
   "cell_type": "markdown",
   "metadata": {},
   "source": [
    "<br>----<br><br>"
   ]
  },
  {
   "cell_type": "markdown",
   "metadata": {},
   "source": [
    "### 2- A Tutorial Introduction to the Minimum Description Length Principle"
   ]
  },
  {
   "cell_type": "markdown",
   "metadata": {},
   "source": [
    "İkinci makale 2004 - A Tutorial Introduction to the Minimum Description Length Principle\n",
    "Bu aslında bir makale değil 80 sayfalık bir açıklama dökümanı. MDL prensibini detaylı bir şekilde anlamak için bu dökümanı okumak gerekiyor.  \n",
    "\n",
    "\n"
   ]
  },
  {
   "cell_type": "markdown",
   "metadata": {},
   "source": [
    "<br>----<br><br>"
   ]
  }
 ],
 "metadata": {},
 "nbformat": 4,
 "nbformat_minor": 2
}
